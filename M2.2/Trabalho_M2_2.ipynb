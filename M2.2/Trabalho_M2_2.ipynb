{
  "cells": [
    {
      "cell_type": "markdown",
      "metadata": {
        "id": "F_nc4H7675ZK"
      },
      "source": [
        "O objetivo do trabalho da M2.2 é trabalhar com esteganografia em imagens. Dada uma imagem, devem ser implementados os algoritmos para esconder uma mensagem e para ler uma mensagem escondida.\n",
        "\n",
        "Essa mensagem deve ser escondida no último bit da cor vermelha (não precisa trabalhar com binários, somente com valores pares e ímpares) e deve ser retirada uma mensagem de lá.\n",
        "\n",
        "Precisam ser criadas duas funções: uma que crie uma lista de inteiros (com valores de 0 ou 1) composta pelos últimos dígitos da cor vermelha da imagem; a outra função dever receber uma lista de inteiros como parâmetro e alterar o último bit da cor vermelha da imagem para cada elemento. Lembre-se que a lista não vai ser grande o suficiente para toda a imagem, então altere a imagem só até a mensagem terminar.\n",
        "\n",
        "Não precisam se preocupar com a conversão da mensagem de texto para a lista de bits e nem o contrário, abaixo já existem essas duas funções prontas: `gerar_mensagem()` recebe uma string por parâmetro e gera uma lista de inteiros e `converter_mensagem()` recebe uma lista de inteiros e gera uma mensagem.\n",
        "\n",
        "**O trabalho deve utilizar essas duas funções, para o trabalho feito sem elas será atribuída nota 0.**"
      ]
    },
    {
      "cell_type": "code",
      "execution_count": 2,
      "metadata": {
        "id": "X71f4CHS7tdo"
      },
      "outputs": [],
      "source": [
        "import numpy as np\n",
        "import cv2 as cv"
      ]
    },
    {
      "cell_type": "code",
      "execution_count": 45,
      "metadata": {
        "id": "qKrdsEjB8aBx"
      },
      "outputs": [],
      "source": [
        "def bitfield(n):\n",
        "    return [int(digit) for digit in bin(n)[2:]]\n",
        "\n",
        "def gerar_mensagem(mensagem):\n",
        "    lista = []\n",
        "    for m in mensagem:\n",
        "        val = ord(m)\n",
        "        bits = bitfield(val)\n",
        "\n",
        "        if len(bits) < 8:\n",
        "            for a in range(8-len(bits)):\n",
        "                bits.insert(0,0)\n",
        "        lista.append(bits)\n",
        "    arr = np.array(lista)\n",
        "    arr = arr.flatten()\n",
        "    return arr\n",
        "\n",
        "\n",
        "def converter_mensagem(saida):\n",
        "    bits = np.array(saida)\n",
        "    mensagem_out = ''\n",
        "    bits = bits.reshape((int(len(saida)/8), 8))\n",
        "    for b in bits:\n",
        "        sum = 0\n",
        "        for i in range(8):\n",
        "            sum += b[i]*(2**(7-i))\n",
        "        mensagem_out += chr(sum)\n",
        "    return mensagem_out\n",
        "\n",
        "# texto = \"Outra mensagem muito legal escrita agora\"\n",
        "# arrayBits = gerar_mensagem(texto)\n",
        "# print(texto)\n",
        "# print(arrayBits)\n",
        "# textoTraduzido = converter_mensagem(arrayBits)\n",
        "# print(textoTraduzido)"
      ]
    },
    {
      "cell_type": "code",
      "execution_count": 46,
      "metadata": {
        "colab": {
          "background_save": true
        },
        "id": "8K5_nTPGzvos"
      },
      "outputs": [],
      "source": [
        "\"\"\"\n",
        "//TODO:\n",
        "- Função que crie uma lista de inteiros (com valores de 0 ou 1) composta pelos últimos dígitos da cor vermelha da imagem - OK\n",
        "- Função que dever receber uma lista de inteiros como parâmetro e alterar o último bit da cor vermelha da imagem para cada elemento. Lembre-se que a lista não vai ser grande o suficiente para toda a imagem, então altere a imagem só até a mensagem terminar - OK\n",
        "\n",
        "// Info:\n",
        "# [largura, altura, canal_de_cor]\n",
        "# [:,:,2] === Canal Vermelho de Cor\n",
        "# Evitar que a mensagem distorça a imagem\n",
        "# Pegar o LSB (Least Significant Bit) da cor desejada (vermelha)\n",
        "# Usar par e ímpar, ao invés de trabalhar direto com bits\n",
        "\"\"\"\n",
        "\n",
        "def hide_message_in_image(message_bits, img_array):    \n",
        "    # O loop abaixo é usado para \"limpar\" a imagem, evitando que ao decodificar a msg fique um monte de letras sem sentido\n",
        "    for i in range(img_array.shape[0]):\n",
        "        for j in range(img_array.shape[1]):\n",
        "            if img_array[i, j, 2] % 2 != 0: # Validar se é ímpar\n",
        "                img_array[i, j, 2] += - 1 # Deixa o valor ímpar em par, usado para setar o LSB durante a conversão de bits em ASCII. PS: alterar o valor direto pra distorçe a imagem e deixa a imagem modificadas\n",
        "\n",
        "    counter = 0 # Controle do tamanho da mensagem\n",
        "    for i in range(img_array.shape[0]):\n",
        "        for j in range(img_array.shape[1]): \n",
        "            if message_bits[counter] == 1:\n",
        "                img_array[i, j, 2] += 1 # Se for 1 na posição atual da message_bits, vai transformar o valores atual na imagem em ímpar\n",
        "            counter += 1\n",
        "\n",
        "            if counter >= len(message_bits): # Controle para evitar que a mensagem altere mais valores do que deve\n",
        "                break\n",
        "        if counter >= len(message_bits): # Como está em um nested loop necessário usar break em todos os loops\n",
        "            break\n",
        "\n",
        "    return img_array\n",
        "\n",
        "def show_message_in_image(img_with_secret): \n",
        "    bits = []\n",
        "\n",
        "    for i in range(img_with_secret.shape[0]):\n",
        "        for j in range(img_with_secret.shape[1]): \n",
        "            if img_with_secret[i, j, 2] % 2 == 0: # Verifica se na imagem o valor atual é par e adiciona o bit 0, senão o bit 1\n",
        "                bits.append(0) \n",
        "            else:\n",
        "                bits.append(1) \n",
        "\n",
        "    return bits\n",
        "\n",
        "def remove_msg_null_values(message):\n",
        "    final_message = \"\"\n",
        "    \n",
        "    # Isso vai remover valores que não sejam a mensagem em si\n",
        "    for char in message:\n",
        "        if char != chr(0): # O número char 0 na table ASCII é NULL\n",
        "            final_message += char\n",
        "\n",
        "    return final_message"
      ]
    },
    {
      "cell_type": "code",
      "execution_count": 47,
      "metadata": {},
      "outputs": [
        {
          "name": "stdout",
          "output_type": "stream",
          "text": [
            "Encoding...\n",
            "Encoded!!!\n",
            "\n",
            "Decoding...\n",
            "Decoded!!!\n",
            "The message is: \n",
            "HEEEEEEEEEEEEEEEEEEEEEEEEEELLLLLPPPPPPPPP\n"
          ]
        }
      ],
      "source": [
        "# Execução das Funções\n",
        "img = cv.imread(\"./lenna.png\")\n",
        "message = \"HEEEEEEEEEEEEEEEEEEEEEEEEEELLLLLPPPPPPPPP\"\n",
        "message_bits = gerar_mensagem(message)\n",
        "          \n",
        "print(\"Encoding...\")\n",
        "new_img = hide_message_in_image(message_bits, img)\n",
        "cv.imwrite(\"saved_img.png\", new_img) # Usando imwrite() por causa de um bug com o Linux e a opencv imshow()\n",
        "print(\"Encoded!!!\")\n",
        "\n",
        "print(\"\")\n",
        "\n",
        "print(\"Decoding...\")\n",
        "secret_msg = show_message_in_image(new_img)\n",
        "print(\"Decoded!!!\")\n",
        "print(\"The message is: \")\n",
        "msg_from_img = converter_mensagem(secret_msg)\n",
        "print(remove_msg_null_values(msg_from_img))"
      ]
    }
  ],
  "metadata": {
    "colab": {
      "provenance": []
    },
    "kernelspec": {
      "display_name": "Python 3.10.7 64-bit",
      "language": "python",
      "name": "python3"
    },
    "language_info": {
      "codemirror_mode": {
        "name": "ipython",
        "version": 3
      },
      "file_extension": ".py",
      "mimetype": "text/x-python",
      "name": "python",
      "nbconvert_exporter": "python",
      "pygments_lexer": "ipython3",
      "version": "3.10.8"
    },
    "vscode": {
      "interpreter": {
        "hash": "e7370f93d1d0cde622a1f8e1c04877d8463912d04d973331ad4851f04de6915a"
      }
    }
  },
  "nbformat": 4,
  "nbformat_minor": 0
}
