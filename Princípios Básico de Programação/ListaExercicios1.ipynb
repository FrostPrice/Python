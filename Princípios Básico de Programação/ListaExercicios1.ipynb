{
  "cells": [
    {
      "cell_type": "markdown",
      "metadata": {
        "id": "O6-6prtnTZiQ"
      },
      "source": [
        "1.\tFaça um código que peça um número e então mostre a mensagem: ***O número informado foi [número]***\n",
        "\n",
        "---\n",
        "\n"
      ]
    },
    {
      "cell_type": "code",
      "execution_count": null,
      "metadata": {
        "colab": {
          "base_uri": "https://localhost:8080/"
        },
        "id": "wkbnWbBsTXEa",
        "outputId": "57ee4c53-326f-4120-966c-26a48d7f4ac9"
      },
      "outputs": [],
      "source": [
        "numero = int(input(\"Digite um número:\"))\n",
        "print(\"O número digitado foi\", numero)"
      ]
    },
    {
      "cell_type": "markdown",
      "metadata": {
        "id": "ZP5LX_Z_Tbzz"
      },
      "source": [
        "2.\tFaça um código que peça dois números e imprima a soma.\n",
        "\n",
        "---\n",
        "\n"
      ]
    },
    {
      "cell_type": "code",
      "execution_count": null,
      "metadata": {
        "colab": {
          "base_uri": "https://localhost:8080/"
        },
        "id": "c13GIwGGTb_V",
        "outputId": "3fc76a24-9bb3-4c64-d9c7-f8b97ae24bef"
      },
      "outputs": [],
      "source": [
        "numero1 = int(input(\"Digite o primeiro número: \"))\n",
        "numero2 = int(input(\"Digite o segundo número: \"))\n",
        "soma = numero1 + numero2\n",
        "print(\"A soma dos 2 número é\", soma)"
      ]
    },
    {
      "cell_type": "markdown",
      "metadata": {
        "id": "o3IhnWCDTcNG"
      },
      "source": [
        "3.\tFaça um código que peça as 4 notas bimestrais e mostre a média.\n",
        "\n",
        "\n",
        "---\n",
        "\n",
        "\n"
      ]
    },
    {
      "cell_type": "code",
      "execution_count": null,
      "metadata": {
        "id": "nLgsNDYETcVj"
      },
      "outputs": [],
      "source": [
        "nota1 = float(input(\"Digite a primeira nota\"))\n",
        "nota2 = float(input(\"Digite a segunda nota\"))\n",
        "nota3 = float(input(\"Digite a terceira nota\"))\n",
        "nota4 = float(input(\"Digite a última nota\"))\n",
        "media = (nota1 + nota2 + nota3 + nota4) / 4\n",
        "print(\"A média final deste bimestre é\", media)"
      ]
    },
    {
      "cell_type": "markdown",
      "metadata": {
        "id": "DOLgufvtTcfo"
      },
      "source": [
        "4.\tFaça um código que peça o raio de um círculo, calcule e mostre sua área.\n",
        "\n",
        "---\n",
        "\n"
      ]
    },
    {
      "cell_type": "code",
      "execution_count": null,
      "metadata": {
        "id": "Um8z9tFVTcmn"
      },
      "outputs": [],
      "source": [
        "raio = float(input(\"Informe o raio do círculo\"))\n",
        "area = 3.14 * raio ** 2\n",
        "print(\"A área do círculo:\", area)"
      ]
    },
    {
      "cell_type": "markdown",
      "metadata": {
        "id": "YpKn0sNKTcuS"
      },
      "source": [
        "5.\tFaça um código que calcule a área de um quadrado, em seguida mostre o dobro desta área para o usuário.\n",
        "\n",
        "---\n",
        "\n"
      ]
    },
    {
      "cell_type": "code",
      "execution_count": null,
      "metadata": {
        "id": "h1eIo-eWTc1Z"
      },
      "outputs": [],
      "source": [
        "lado = float(input(\"Informe o lado do quadrado\"))\n",
        "area = lado ** 2\n",
        "print(\"A área do quadrado é\", area)"
      ]
    },
    {
      "cell_type": "markdown",
      "metadata": {
        "id": "gT-YUAjGTc9q"
      },
      "source": [
        "6.\tFaça um código que peça a temperatura em graus Farenheit, transforme e mostre a temperatura em graus Celsius.\n",
        "\n",
        "---\n",
        "\n"
      ]
    },
    {
      "cell_type": "code",
      "execution_count": 8,
      "metadata": {
        "id": "nvu4WG1BTdEj"
      },
      "outputs": [
        {
          "name": "stdout",
          "output_type": "stream",
          "text": [
            "A temperatura em Celsius é 40.0\n"
          ]
        }
      ],
      "source": [
        "temp_farenheit = float(input(\"Digite a temperatura em Farenheit\"))\n",
        "temp_celsius = (temp_farenheit - 32) / 1.8\n",
        "print(\"A temperatura em Celsius é\", temp_celsius)"
      ]
    },
    {
      "cell_type": "markdown",
      "metadata": {
        "id": "jxN-0ITKTdMB"
      },
      "source": [
        "7.\tFaça um código que peça 2 números inteiros e um número real, calcule e mostre:\n",
        "\n",
        "          a.\tO produto do dobro do primeiro com metade do segundo.\n",
        "          b.\tA soma do triplo do primeiro com o terceiro.\n",
        "          c.\tO terceiro elevado ao cubo.\n",
        "\n",
        "---\n",
        "\n",
        "\n"
      ]
    },
    {
      "cell_type": "code",
      "execution_count": null,
      "metadata": {
        "id": "PV-PQar8TdTU"
      },
      "outputs": [],
      "source": [
        "numero1 = int(input(\"Digite um número inteiro\"))\n",
        "numero2 = int(input(\"Digite um segundo inteiro\"))\n",
        "numero3 = float(input(\"Digite um número real\"))\n",
        "\n",
        "a = (numero1 * 2) + (numero2 / 2)\n",
        "b = (numero1 * 3) + numero3\n",
        "c = numero3 ** 3\n",
        "\n",
        "print(\"A -->\", a) \n",
        "print(\"B -->\", b) \n",
        "print(\"C -->\", c) "
      ]
    },
    {
      "cell_type": "markdown",
      "metadata": {
        "id": "67n-Qq1_TdcN"
      },
      "source": [
        "8.\tJoão Papo-de-Pescador, homem de bem, comprou um microcomputador para controlar o rendimento diário de seu trabalho. Toda vez que ele traz um peso de peixes maior que o estabelecido pelo regulamento de pesca do estado de São Paulo (50 quilos) deve pagar uma multa de R$ 4,00 por quilo excedente. \n",
        "\n",
        "> João precisa que você faça um programa que leia a variável peso (peso de peixes) e calcule o excesso. Gravar na variável excesso a quantidade de quilos além do limite e na variável multa o valor da multa que João deverá pagar. Imprima os dados do programa com as mensagens adequadas.\n",
        "\n",
        "---\n",
        "\n",
        "\n",
        "\n"
      ]
    },
    {
      "cell_type": "code",
      "execution_count": 12,
      "metadata": {
        "id": "bkYVwijbTdic"
      },
      "outputs": [
        {
          "name": "stdout",
          "output_type": "stream",
          "text": [
            "O valor da multa é de R$ 40.0, totalizando no valor final R$ 100.0\n"
          ]
        }
      ],
      "source": [
        "PESO_LIMITE = 50\n",
        "VALOR_MULTA = 4.00\n",
        "\n",
        "peso = float(input(\"Informe o peso do peixe\"))\n",
        "\n",
        "if peso > PESO_LIMITE:\n",
        "    excesso = peso - PESO_LIMITE\n",
        "    multa = excesso * VALOR_MULTA\n",
        "    print(\"O valor da multa é de R$ \" + str(multa) + \", totalizando no valor final R$ \" + str(peso + multa))"
      ]
    },
    {
      "cell_type": "markdown",
      "metadata": {
        "id": "SoP2Yda5Tdp7"
      },
      "source": [
        "9.\tFaça um código que pergunte quanto você ganha por hora e o número de horas trabalhadas no mês. Calcule e mostre o total do seu salário no referido mês, sabendo-se que são descontados 11% para o Imposto de Renda, 8% para o INSS e 5% para o sindicato, faça um programa que nos dê:\n",
        "          a.\tSalário bruto.\n",
        "          b.\tQuanto pagou ao INSS.\n",
        "          c.\tQuanto pagou ao sindicato.\n",
        "          d.\tO salário líquido.\n",
        "        \tCalcule os descontos e o salário líquido, conforme abaixo:\n",
        "\t        (+) Salário Bruto\n",
        "\t        (-) IR (11%)\n",
        "\t        (-) INSS (8%)\n",
        "\t        (-) Sindicato (5%)\n",
        "            (=) Salário Liquido\n",
        "\n",
        "Obs.: Salário Bruto - Descontos = Salário Líquido.\n",
        "\n",
        "---\n",
        "\n",
        "\n"
      ]
    },
    {
      "cell_type": "code",
      "execution_count": 1,
      "metadata": {
        "id": "Z7g8OSiZTdvh"
      },
      "outputs": [
        {
          "name": "stdout",
          "output_type": "stream",
          "text": [
            "Salário Bruto: R$ 1000.0\n",
            "Valor pago ao INSS 80.0\n",
            "Valor pago ao Sidicato 50.0\n",
            "Salário Liquido: R$ 760.0\n"
          ]
        }
      ],
      "source": [
        "IR = 0.11\n",
        "INSS = 0.08\n",
        "SINDICATO = 0.05\n",
        "\n",
        "salario_por_hora = float(input(\"Digite o quanto você ganha por hora\"))\n",
        "horas_trabalhadas = float(input(\"Quantas horas você trabalhou este mês?\"))\n",
        "\n",
        "salario_bruto = salario_por_hora * horas_trabalhadas\n",
        "\n",
        "desconto_ir = salario_bruto * IR\n",
        "desconto_inss = salario_bruto * INSS\n",
        "desconto_sindicato = salario_bruto * SINDICATO\n",
        "\n",
        "salario_liquido = salario_bruto - desconto_ir - desconto_inss - desconto_sindicato\n",
        "\n",
        "print(\"Salário Bruto: R$\", salario_bruto)\n",
        "print(\"Valor pago ao INSS\", desconto_inss)\n",
        "print(\"Valor pago ao Sidicato\", desconto_sindicato)\n",
        "print(\"Salário Liquido: R$\", salario_liquido)"
      ]
    },
    {
      "cell_type": "markdown",
      "metadata": {
        "id": "UXHbciQzTd1y"
      },
      "source": [
        "10.\tFaça um código para uma loja de tintas. O programa deverá pedir o tamanho em metros quadrados da área a ser pintada. Considere que a cobertura da tinta é de 1 litro para cada 3 metros quadrados e que a tinta é vendida em latas de 18 litros, que custam R$80,00. Informe ao usuário a quantidades de latas de tinta a serem compradas e o preço total.\n",
        "\n",
        "---\n",
        "\n"
      ]
    },
    {
      "cell_type": "code",
      "execution_count": null,
      "metadata": {
        "id": "_0i3Ae8rTd7J"
      },
      "outputs": [],
      "source": [
        "METROS_QUADRADO_POR_LITRO = 3\n",
        "LITROS_POR_LATA = 18\n",
        "PRECO_LATA = 80\n",
        "\n",
        "tamanho = float(input(\"Informe o tamanho a ser pintado (m²)\"))\n",
        "litros = tamanho / METROS_QUADRADO_POR_LITRO\n"
      ]
    },
    {
      "cell_type": "markdown",
      "metadata": {
        "id": "h2kgN89STmdq"
      },
      "source": [
        "11.\tFaça um código para uma loja de tintas. O programa deverá pedir o tamanho em metros quadrados da área a ser pintada. Considere que a cobertura da tinta é de 1 litro para cada 6 metros quadrados e que a tinta é vendida em latas de 18 litros, que custam 80 reais ou em galões de 3,6 litros, que custam 25 reais.\n",
        "\n",
        "Informe ao usuário as quantidades de tinta a serem compradas e os respectivos preços em 3 situações:\n",
        "\n",
        "      Comprar apenas latas de 18 litros;\n",
        "      Comprar apenas galões de 3,6 litros;\n",
        "      Misturar latas e galões, de forma que o preço seja o menor. \n",
        "      \n",
        "Acrescente 10% de folga e sempre arredonde os valores para cima, isto é, considere latas cheias\n",
        "\n",
        "---\n",
        "\n",
        "\n"
      ]
    },
    {
      "cell_type": "code",
      "execution_count": null,
      "metadata": {
        "id": "EMvE4j8DTml2"
      },
      "outputs": [],
      "source": []
    },
    {
      "cell_type": "markdown",
      "metadata": {
        "id": "0cFOZODeTmyC"
      },
      "source": [
        "12.\tFaça um código que peça o tamanho de um arquivo para download (em MB) e a velocidade de um link de Internet (em Mbps), calcule e informe o tempo aproximado de download do arquivo usando este link (em minutos).\n",
        "\n",
        "---\n",
        "\n"
      ]
    },
    {
      "cell_type": "code",
      "execution_count": null,
      "metadata": {
        "id": "d3LnDotLTm_e"
      },
      "outputs": [],
      "source": []
    }
  ],
  "metadata": {
    "colab": {
      "name": "ListaExercicios1.ipynb",
      "provenance": []
    },
    "kernelspec": {
      "display_name": "Python 3.10.5 64-bit",
      "language": "python",
      "name": "python3"
    },
    "language_info": {
      "codemirror_mode": {
        "name": "ipython",
        "version": 3
      },
      "file_extension": ".py",
      "mimetype": "text/x-python",
      "name": "python",
      "nbconvert_exporter": "python",
      "pygments_lexer": "ipython3",
      "version": "3.10.5"
    },
    "vscode": {
      "interpreter": {
        "hash": "e7370f93d1d0cde622a1f8e1c04877d8463912d04d973331ad4851f04de6915a"
      }
    }
  },
  "nbformat": 4,
  "nbformat_minor": 0
}
