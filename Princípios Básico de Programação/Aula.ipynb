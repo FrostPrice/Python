{
  "cells": [
    {
      "cell_type": "markdown",
      "metadata": {
        "id": "Y9lSjk59nFWd"
      },
      "source": [
        "### Saída de dados\n",
        "\n",
        "---"
      ]
    },
    {
      "cell_type": "markdown",
      "metadata": {
        "id": "UOXBzJEfKdVd"
      },
      "source": [
        "A função `print()` recebe como parâmetro uma sequência de `strings` e/ou variáveis (separados por vírgula) e os exibe na tela."
      ]
    },
    {
      "cell_type": "code",
      "execution_count": 2,
      "metadata": {
        "colab": {
          "base_uri": "https://localhost:8080/"
        },
        "id": "r95pBWYPm2ef",
        "outputId": "d3c549d3-6a5e-435e-89bf-a2dbabfd6e9b"
      },
      "outputs": [
        {
          "name": "stdout",
          "output_type": "stream",
          "text": [
            "Ola Mundo\n"
          ]
        }
      ],
      "source": [
        "print('Ola Mundo')"
      ]
    },
    {
      "cell_type": "code",
      "execution_count": 3,
      "metadata": {
        "colab": {
          "base_uri": "https://localhost:8080/"
        },
        "id": "pQxHsMBrsS8b",
        "outputId": "31513462-e753-4e02-9ff5-af9bf496ddd7"
      },
      "outputs": [
        {
          "name": "stdout",
          "output_type": "stream",
          "text": [
            "Batata\n"
          ]
        }
      ],
      "source": [
        "print(\"Batata\")"
      ]
    },
    {
      "cell_type": "code",
      "execution_count": 4,
      "metadata": {
        "colab": {
          "base_uri": "https://localhost:8080/"
        },
        "id": "V2KDOpFB8WCb",
        "outputId": "36b9a559-759b-4333-95bd-d51c5680e18a"
      },
      "outputs": [
        {
          "name": "stdout",
          "output_type": "stream",
          "text": [
            "Olá Mundo\n"
          ]
        }
      ],
      "source": [
        "print('Olá Mundo')"
      ]
    },
    {
      "cell_type": "markdown",
      "metadata": {
        "id": "glV9YY7CtcTT"
      },
      "source": [
        "### Variáveis\n",
        "\n",
        "---"
      ]
    },
    {
      "cell_type": "markdown",
      "metadata": {
        "id": "5h17XdRlKmJ0"
      },
      "source": [
        "Imprimir somente texto não é interessante, precisamos de variáveis para armazenar valores e manter nosso programa mais interativo. \n",
        "\n",
        "Como é comum nas linguagens de programação, as variáveis em Python podem armazenar diferentes tipos: números(`int`, `float`), texto(`str`), booleanos(`bool`) ...\n",
        "\n",
        "O que pode ser diferente do que estamos acostumados é que aqui não declaramos o tipo, ele é definido pelo valor atribuído. O operador de `=` é utilizado para a atribuição de valores."
      ]
    },
    {
      "cell_type": "code",
      "execution_count": 5,
      "metadata": {
        "colab": {
          "base_uri": "https://localhost:8080/"
        },
        "id": "kg30OFQlR_sv",
        "outputId": "ae6cc032-87a1-4175-ffd0-a2a6abb021a1"
      },
      "outputs": [
        {
          "name": "stdout",
          "output_type": "stream",
          "text": [
            "Meu nome é Rodrigo\n",
            "16.25\n",
            "16.25\n"
          ]
        }
      ],
      "source": [
        "nome = \"Rodrigo\"\n",
        "idade = 30\n",
        "preco = 1.25\n",
        "\n",
        "print(\"Meu nome é\", nome)\n",
        "\n",
        "preco = preco + 15\n",
        "\n",
        "print(preco)\n",
        "\n",
        "\n",
        "print(preco)\n",
        "#print(preco)\n",
        "\n",
        "#preco = \"Caro\"\n",
        "\n",
        "#print(preco)"
      ]
    },
    {
      "cell_type": "code",
      "execution_count": 6,
      "metadata": {
        "colab": {
          "base_uri": "https://localhost:8080/"
        },
        "id": "A-Y2--xzTLqr",
        "outputId": "8061e29f-e556-490f-d97a-85f2e6d8d200"
      },
      "outputs": [
        {
          "name": "stdout",
          "output_type": "stream",
          "text": [
            "4\n",
            "0.5\n"
          ]
        }
      ],
      "source": [
        "soma = 2 + 2\n",
        "subtracao = 5 - 1\n",
        "multiplicacao = 3 * 4\n",
        "divisao = 1 / 2\n",
        "print(soma)\n",
        "print(divisao)"
      ]
    },
    {
      "cell_type": "code",
      "execution_count": 7,
      "metadata": {
        "colab": {
          "base_uri": "https://localhost:8080/"
        },
        "id": "19pI5bdVtmRN",
        "outputId": "d40a5328-65d2-4a58-d260-bd6981c5fa14"
      },
      "outputs": [
        {
          "name": "stdout",
          "output_type": "stream",
          "text": [
            "33\n",
            "33\n",
            "True\n",
            "Batata\n",
            "Rodrigo\n"
          ]
        }
      ],
      "source": [
        "x = 30\n",
        "x = x + 3\n",
        "print(x)\n",
        "y = False\n",
        "y = True\n",
        "z = \"Batata\"\n",
        "\n",
        "print(x)\n",
        "print(y)\n",
        "print(z)\n",
        "\n",
        "x = \"Rodrigo\"\n",
        "\n",
        "\n",
        "print(x)\n"
      ]
    },
    {
      "cell_type": "markdown",
      "metadata": {
        "id": "wFQumiqzxrKI"
      },
      "source": [
        "Mesmo sem precisar declarar o tipo, precisamos de uma atribuição direta para a declaração da variável, o valor atribuído reserva a posição de memória e define o tipo da variável em tempo de execução. \n",
        "\n",
        "Uma variável pode ser redeclarada ao atribuir um valor diretamente de um tipo diferente, mas devemos tomar cuidado com as operações que serão feitas com elas."
      ]
    },
    {
      "cell_type": "code",
      "execution_count": 8,
      "metadata": {
        "colab": {
          "base_uri": "https://localhost:8080/"
        },
        "id": "lDYPXFdoWfM6",
        "outputId": "7445db4c-09c4-4967-f1ef-998597429dd6"
      },
      "outputs": [
        {
          "name": "stdout",
          "output_type": "stream",
          "text": [
            "10\n"
          ]
        }
      ],
      "source": [
        "#Imprime o 10 na tela\n",
        "x = 10\n",
        "print(x)"
      ]
    },
    {
      "cell_type": "code",
      "execution_count": 9,
      "metadata": {
        "colab": {
          "base_uri": "https://localhost:8080/"
        },
        "id": "7f1TxxZO7cNz",
        "outputId": "f8acdb54-8e91-4f96-8a9a-312213cc6508"
      },
      "outputs": [
        {
          "name": "stdout",
          "output_type": "stream",
          "text": [
            "75\n",
            "15\n"
          ]
        }
      ],
      "source": [
        "x = 15\n",
        "valor = x * 5\n",
        "print(valor)\n",
        "print(x)"
      ]
    },
    {
      "cell_type": "code",
      "execution_count": 10,
      "metadata": {
        "colab": {
          "base_uri": "https://localhost:8080/"
        },
        "id": "P712Hc_bX2Wr",
        "outputId": "a09fe074-3e4f-4f0f-d12e-82176da342ae"
      },
      "outputs": [
        {
          "name": "stdout",
          "output_type": "stream",
          "text": [
            "Seu nome é Rodrigo\n"
          ]
        }
      ],
      "source": [
        "nome = \"Rodrigo\"\n",
        "frase = \"Seu nome é \" + nome\n",
        "print(frase)"
      ]
    },
    {
      "cell_type": "code",
      "execution_count": 11,
      "metadata": {
        "colab": {
          "base_uri": "https://localhost:8080/"
        },
        "id": "TOegbs2TaNTQ",
        "outputId": "2da91da8-240b-4cde-c6d8-4bdd738fb3a8"
      },
      "outputs": [
        {
          "name": "stdout",
          "output_type": "stream",
          "text": [
            "Seu nome é João\n"
          ]
        }
      ],
      "source": [
        "nome = \"João\"\n",
        "frase = \"Seu nome é \" + nome\n",
        "print(frase)"
      ]
    },
    {
      "cell_type": "markdown",
      "metadata": {
        "id": "cErXt6vv72gh"
      },
      "source": [
        "### Operadores Aritméticos\n",
        "\n",
        "---\n"
      ]
    },
    {
      "cell_type": "markdown",
      "metadata": {
        "id": "RW4pPSICMhE1"
      },
      "source": [
        "Os operadores aritméticos para trabalhar com as variáveis são os seguintes:"
      ]
    },
    {
      "cell_type": "code",
      "execution_count": 12,
      "metadata": {
        "colab": {
          "base_uri": "https://localhost:8080/"
        },
        "id": "Mt7UV2ik-NIW",
        "outputId": "0e099ff1-c783-43ff-84c2-3085ba4b0769"
      },
      "outputs": [
        {
          "name": "stdout",
          "output_type": "stream",
          "text": [
            "Adição: 4\n",
            "Subtração: 2\n",
            "Multiplicação: 12\n",
            "Divisão: 3.3333333333333335\n",
            "Divisão Inteira: 4\n",
            "Módulo: 1\n",
            "Expoencial: 8\n",
            "Raiz: 3.0\n"
          ]
        }
      ],
      "source": [
        "import math\n",
        "\n",
        "#Adição           +\n",
        "print(\"Adição:\", 2 + 2)\n",
        "\n",
        "#Subtração        -\n",
        "print(\"Subtração:\", 3 - 1)\n",
        "\n",
        "#Multiplicação    *\n",
        "print(\"Multiplicação:\", 3 * 4)\n",
        "\n",
        "#Divisão          /\n",
        "print(\"Divisão:\", 10 / 3)\n",
        "\n",
        "#Divisão Inteira  //\n",
        "print(\"Divisão Inteira:\", 13 // 3)\n",
        "\n",
        "#Módulo           %\n",
        "print(\"Módulo:\", 13 % 3)\n",
        "\n",
        "#Expoencial       **\n",
        "print(\"Expoencial:\", 2 ** 3)\n",
        "\n",
        "\n",
        "#Raiz\n",
        "print(\"Raiz:\", 9 ** (1/2))"
      ]
    },
    {
      "cell_type": "markdown",
      "metadata": {
        "id": "ESSoZ2ixFr-c"
      },
      "source": [
        "### Entrada de dados\n",
        "\n",
        "---"
      ]
    },
    {
      "cell_type": "markdown",
      "metadata": {
        "id": "oP4Vn5PQMq8C"
      },
      "source": [
        "O comando para entrada de dados do usuário é a função `input()`, o comando recebe como parâmetro um texto que será exibido na tela e aguardará uma entrada do usuário. \n",
        "\n",
        "O valor digitado então é atribuído à uma variável que receba a função como uma atribuição."
      ]
    },
    {
      "cell_type": "code",
      "execution_count": 13,
      "metadata": {
        "colab": {
          "base_uri": "https://localhost:8080/",
          "height": 53
        },
        "id": "pdoatK1rCLyN",
        "outputId": "179ffd58-19f2-49f9-f2a9-6109da4f2248"
      },
      "outputs": [
        {
          "data": {
            "text/plain": [
              "'legal'"
            ]
          },
          "execution_count": 13,
          "metadata": {},
          "output_type": "execute_result"
        }
      ],
      "source": [
        "input(\"legal\")\n"
      ]
    },
    {
      "cell_type": "code",
      "execution_count": 14,
      "metadata": {
        "colab": {
          "base_uri": "https://localhost:8080/"
        },
        "id": "ycqqqrxiGc05",
        "outputId": "428d0720-c794-438e-864c-3b8d2fa2bb42"
      },
      "outputs": [
        {
          "name": "stdout",
          "output_type": "stream",
          "text": [
            "A cor escolhida foi Vermelho\n"
          ]
        }
      ],
      "source": [
        "cor = input(\"Escolha uma cor: \") \n",
        "print(\"A cor escolhida foi\", cor) "
      ]
    },
    {
      "cell_type": "code",
      "execution_count": 15,
      "metadata": {
        "colab": {
          "base_uri": "https://localhost:8080/",
          "height": 217
        },
        "id": "bSVPHUx3HlG3",
        "outputId": "68e30550-098a-42e0-a0fb-282d85aa7760"
      },
      "outputs": [
        {
          "ename": "TypeError",
          "evalue": "can only concatenate str (not \"int\") to str",
          "output_type": "error",
          "traceback": [
            "\u001b[0;31m---------------------------------------------------------------------------\u001b[0m",
            "\u001b[0;31mTypeError\u001b[0m                                 Traceback (most recent call last)",
            "\u001b[1;32m/home/mateusbarbosa/Pessoal/Univali/Python/Princípios Básico de Programação/Aula.ipynb Cell 24\u001b[0m in \u001b[0;36m<cell line: 2>\u001b[0;34m()\u001b[0m\n\u001b[1;32m      <a href='vscode-notebook-cell:/home/mateusbarbosa/Pessoal/Univali/Python/Princ%C3%ADpios%20B%C3%A1sico%20de%20Programa%C3%A7%C3%A3o/Aula.ipynb#ch0000023?line=0'>1</a>\u001b[0m x \u001b[39m=\u001b[39m \u001b[39minput\u001b[39m(\u001b[39m\"\u001b[39m\u001b[39mDigite um número: \u001b[39m\u001b[39m\"\u001b[39m) \n\u001b[0;32m----> <a href='vscode-notebook-cell:/home/mateusbarbosa/Pessoal/Univali/Python/Princ%C3%ADpios%20B%C3%A1sico%20de%20Programa%C3%A7%C3%A3o/Aula.ipynb#ch0000023?line=1'>2</a>\u001b[0m dobro \u001b[39m=\u001b[39m x \u001b[39m+\u001b[39;49m \u001b[39m2\u001b[39;49m \n\u001b[1;32m      <a href='vscode-notebook-cell:/home/mateusbarbosa/Pessoal/Univali/Python/Princ%C3%ADpios%20B%C3%A1sico%20de%20Programa%C3%A7%C3%A3o/Aula.ipynb#ch0000023?line=2'>3</a>\u001b[0m \u001b[39mprint\u001b[39m(\u001b[39m\"\u001b[39m\u001b[39mO dobro do número é \u001b[39m\u001b[39m\"\u001b[39m, dobro)\n",
            "\u001b[0;31mTypeError\u001b[0m: can only concatenate str (not \"int\") to str"
          ]
        }
      ],
      "source": [
        "x = input(\"Digite um número: \") \n",
        "dobro = x + 2 \n",
        "print(\"O dobro do número é \", dobro) #essa linha não dará certo"
      ]
    },
    {
      "cell_type": "markdown",
      "metadata": {
        "id": "Iy92cBaVIElD"
      },
      "source": [
        "Como os tipos dos dados em Python não são explícitos pelo usuário, algumas vezes precisamos dizer o que queremos. \n",
        "\n",
        "No caso anterior, o `input()` por padrão considera que o usuário digitou uma string(`str`), mas nem sempre é assim, como vimos anteriormente. \n",
        "\n",
        "Outro caso é na concatenação de strings, que não aceitam a soma direta com números. \n",
        "\n",
        "Para isso existem funções como `int()` e `str()` que recebem uma variável por parâmetro e retornam o mesmo valor com o tipo convertido."
      ]
    },
    {
      "cell_type": "code",
      "execution_count": null,
      "metadata": {
        "colab": {
          "base_uri": "https://localhost:8080/"
        },
        "id": "L3C6qBzQIaFy",
        "outputId": "e48e56c3-4b2b-477e-d9c7-0de15b180376"
      },
      "outputs": [],
      "source": [
        "x = input(\"Digite um número: \")\n",
        "otoX = int(x) \n",
        "dobro = otoX * 2 \n",
        "print(\"O dobro do número é \", dobro)"
      ]
    },
    {
      "cell_type": "code",
      "execution_count": null,
      "metadata": {
        "colab": {
          "base_uri": "https://localhost:8080/"
        },
        "id": "iyeZd7SeUjPx",
        "outputId": "e8ade4b1-0173-45c0-e1d2-3c57046392c6"
      },
      "outputs": [],
      "source": [
        "x = float(input(\"Digite um número: \"))\n",
        "dobro = x * 2 \n",
        "print(\"O dobro do número é \", dobro)"
      ]
    },
    {
      "cell_type": "code",
      "execution_count": null,
      "metadata": {
        "cellView": "both",
        "colab": {
          "base_uri": "https://localhost:8080/"
        },
        "id": "RBwV8JWlIbSg",
        "outputId": "ffcfb2dd-c3d7-409e-a10d-addc92399a69"
      },
      "outputs": [],
      "source": [
        "frase = \"A resposta é \" \n",
        "resposta = 2\n",
        "resposta = str(resposta)\n",
        "frase = frase + resposta #errado\n",
        "#frase = frase + str(resposta) #certo\n",
        "print(frase)"
      ]
    }
  ],
  "metadata": {
    "colab": {
      "name": "Aula1.ipynb",
      "provenance": []
    },
    "kernelspec": {
      "display_name": "Python 3.10.5 64-bit",
      "language": "python",
      "name": "python3"
    },
    "language_info": {
      "codemirror_mode": {
        "name": "ipython",
        "version": 3
      },
      "file_extension": ".py",
      "mimetype": "text/x-python",
      "name": "python",
      "nbconvert_exporter": "python",
      "pygments_lexer": "ipython3",
      "version": "3.10.5"
    },
    "vscode": {
      "interpreter": {
        "hash": "e7370f93d1d0cde622a1f8e1c04877d8463912d04d973331ad4851f04de6915a"
      }
    }
  },
  "nbformat": 4,
  "nbformat_minor": 0
}
