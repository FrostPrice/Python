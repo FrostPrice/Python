{
  "cells": [
    {
      "cell_type": "markdown",
      "metadata": {
        "id": "YRsyM3rV3VN9"
      },
      "source": [
        "# Trabalho M1.1\n",
        "\n",
        "---\n",
        "\n"
      ]
    },
    {
      "cell_type": "markdown",
      "metadata": {
        "id": "1qz9G0gB-1Nz"
      },
      "source": [
        "### Problema 1\n",
        "\n",
        "---"
      ]
    },
    {
      "cell_type": "markdown",
      "metadata": {
        "id": "B9sFqd5Q-3Us"
      },
      "source": [
        "Um posto está vendendo combustíveis com a seguinte tabela de descontos:\n",
        "\n",
        "\n",
        "*   Álcool: até 20 litros, desconto de 3% por litro e acima de 20 litros, desconto de 5% por litro;\n",
        "*   Gasolina: até 20 litros, desconto de 4% por litro e acima de 20 litros, desconto\n",
        "de 6% por litro.\n",
        "\n",
        "Escreva um algoritmo que leia o número de litros vendidos, o tipo de\n",
        "combustível (A-álcool, G-gasolina) e imprima o valor a ser pago pelo cliente.\n",
        "Considere que o preço do litro da gasolina é 2,49 e o preço do litro do álcool é R$ 1,69. "
      ]
    },
    {
      "cell_type": "code",
      "execution_count": 1,
      "metadata": {
        "id": "K8ansMRc-26b"
      },
      "outputs": [
        {
          "name": "stdout",
          "output_type": "stream",
          "text": [
            "O tipo selecionado foi: Álcool\n",
            "O total a ser pago é: R$ 118.275\n"
          ]
        }
      ],
      "source": [
        "PRECO_ALCOOL = 2.49\n",
        "PRECO_GASOLINA = 1.69\n",
        "ALCOOL_DESCONTO_ATE_20 = 0.03\n",
        "ALCOOL_DESCONTO_ACIMA_20 = 0.05\n",
        "GASOLINA_DESCONTO_ATE_20 = 0.04\n",
        "GASOLINA_DESCONTO_ACIMA_20 = 0.06\n",
        "\n",
        "input_litros = float(input(\"Digite a quantidade em Litros de combustível adquirida: \"))\n",
        "input_tipo = input(\"Por favor, informe o tipo de combustível (G -> Gasolina ou A -> Álcool): \")\n",
        "\n",
        "if input_tipo == \"G\" or input_tipo == \"g\":\n",
        "    print(\"O tipo selecionado foi: Álcool\")\n",
        "    if input_litros > 20:\n",
        "        total = (input_litros * PRECO_ALCOOL) *  (1 - ALCOOL_DESCONTO_ACIMA_20)\n",
        "    else:\n",
        "        total = (input_litros * PRECO_ALCOOL) * (1 - ALCOOL_DESCONTO_ATE_20)\n",
        "elif input_tipo == \"A\" or input_tipo == \"a\":\n",
        "    print(\"O tipo selecionado foi: Gasolina\")\n",
        "    if input_litros > 20:\n",
        "        total = (input_litros * PRECO_GASOLINA) * (1 - GASOLINA_DESCONTO_ACIMA_20)\n",
        "    else:\n",
        "        total = (input_litros * PRECO_GASOLINA) * (1 - GASOLINA_DESCONTO_ATE_20)\n",
        "else:\n",
        "    print(\"Tipo de Combustível Invalido!\")\n",
        "\n",
        "print(\"O total a ser pago é: R$\", total)"
      ]
    },
    {
      "cell_type": "markdown",
      "metadata": {
        "id": "EzhgbRbg-3gb"
      },
      "source": [
        "### Problema 2\n",
        "\n",
        "---"
      ]
    },
    {
      "cell_type": "markdown",
      "metadata": {
        "id": "OkpnOoUD-2Qa"
      },
      "source": [
        "Escreva um algoritmo que solicite ao usuário um valor (total) em dinheiro, e informe a quantidade de notas de: 2 reais, 5 reais, 10 reais, 20 reais, 50 reais e 100 reais, e a quantidade de moedas de: 1 real, 50 centavos, 25 centavos, 10 centavos e 1 centavo que serão\n",
        "necessárias para compor este valor, de forma que seja utilizado o menor número de notas e moedas possível.\n"
      ]
    },
    {
      "cell_type": "code",
      "execution_count": null,
      "metadata": {
        "id": "355N0q58-3tS"
      },
      "outputs": [],
      "source": [
        "CEDULAS = [100.00, 50.00, 25.00, 10.00, 5.00, 2.00]\n",
        "MOEDAS = [1.00, 0.50, 0.25, 0.10, 0.01]\n",
        "\n",
        "input_total = float(input(\"Por favor, informe uma quantidade de Dinheiro: \"))\n",
        "\n",
        "\n",
        "print(\"O valor informado foi: R$\", input_total)\n",
        "print(\"-------------------------------------------\")\n",
        "\n",
        "for cedula in CEDULAS:\n",
        "    total_cedulas = input_total // cedula\n",
        "    input_total = input_total % cedula\n",
        "    print(\"O total de Cédulas de R$\", cedula, \"é:\", total_cedulas)\n",
        "\n",
        "print(\"-------------------------------------------\")\n",
        "for moeda in MOEDAS:\n",
        "    total_moedas = input_total // moeda\n",
        "    input_total = input_total % moeda\n",
        "    print(\"O total de Moedas de R$\", moeda, \"é:\", total_moedas)\n"
      ]
    },
    {
      "cell_type": "markdown",
      "metadata": {
        "id": "9HnSaK6A3bKS"
      },
      "source": [
        "### Problema 3\n",
        "\n",
        "---\n",
        "\n"
      ]
    },
    {
      "cell_type": "markdown",
      "metadata": {
        "id": "7b8xDUz-3n9g"
      },
      "source": [
        "Faça um algoritmo que verifique e escreva todos os números inteiros perfeitos entre 1 a 10000.\n",
        "\n",
        "*Um número se diz perfeito se é igual à soma de seus divisores próprios. Divisores próprios de um número positivo N são todos os divisores inteiros positivos de N exceto o próprio N. Por exemplo, o número 6, seus divisores próprios são 1, 2 e 3, cuja soma é igual à 6. 28 também é um número perfeito, já que é divisível por 1, 2, 4, 7, 14*\n",
        "\n",
        "\n",
        "\n"
      ]
    },
    {
      "cell_type": "code",
      "execution_count": null,
      "metadata": {
        "id": "8osoQjQn3Stz"
      },
      "outputs": [],
      "source": [
        "LIMITE = 1000\n",
        "\n",
        "numeros_perfeitos = []\n",
        "\n",
        "for i in range(1, LIMITE + 1):\n",
        "    soma = 0\n",
        "\n",
        "    for j in range(1, i):\n",
        "        if i % j == 0:\n",
        "            soma += j\n",
        "\n",
        "    if soma == i:\n",
        "        numeros_perfeitos.append(i)\n",
        "\n",
        "\n",
        "print(\"Os números perfeitos são: \", numeros_perfeitos)\n"
      ]
    },
    {
      "cell_type": "markdown",
      "metadata": {
        "id": "eXl63bNG9puV"
      },
      "source": [
        "### Problema 4\n",
        "\n",
        "---\n"
      ]
    },
    {
      "cell_type": "markdown",
      "metadata": {
        "id": "iNQsIm-L9rEP"
      },
      "source": [
        "A cifra de César é uma cifra de substituição simples em que cada letra do texto é substituída por outra letra movendo `n` posições no alfabeto. Por exemplo, suponha que o texto simples de entrada seja o seguinte:\n",
        "\n",
        "`abcd xyz bola`\n",
        "\n",
        "Se o valor de deslocamento, n, for 4, o texto criptografado seria o seguinte:\n",
        "\n",
        "`efgh bcd fspe`\n",
        "\n",
        "Escreva uma programa que tenha uma mensagem de texto simples e um número de letras para deslocar na cifra. Ela deve fazer uma string criptografada com todas as letras transformadas e toda a pontuação e espaço em branco permanecendo inalterados.\n",
        "\n",
        "Nota: Você pode presumir que o texto simples é todo em minúsculas, exceto para espaços em branco e pontuação.\n",
        "Podem criam uma string `alfabeto=\"abcdefghijklmnopqrstuvwxyz\"` para auxiliar."
      ]
    },
    {
      "cell_type": "code",
      "execution_count": null,
      "metadata": {
        "id": "kc6qsUUU-tde"
      },
      "outputs": [],
      "source": [
        "ALFABETO = \"abcdefghijklmnopqrstuvwxyz\"\n",
        "\n",
        "texto = input(\"Digite o texto a ser criptografado:\")\n",
        "deslocamento = int(input(\"Informe o deslocamento de Carácteres [1-25]: \"))\n",
        "while deslocamento <= 0 or deslocamento > len(ALFABETO):\n",
        "    deslocamento = int(input(\"Informe o deslocamento de Carácteres [1-25]: \"))\n",
        "\n",
        "texto_criptografado = \"\"\n",
        "\n",
        "for letra in texto: # Faz loop na String do texto\n",
        "    if letra in ALFABETO: # Verifica se o caracter existe no Array ALFABETO\n",
        "        index_alfabeto = ALFABETO.find(letra) # Encontra o index da letra que está na iteração atual\n",
        "        index_criptografia = (index_alfabeto + deslocamento) % len(ALFABETO) # Soma o novo index usando o index da letra encontrada no ALFABETO e o deslocamento desejado. E finalmente usa o MOD (%) para controlar e limitar os valores para ficar dentro dos index do Array ALFABETO -> 51 % 25 = 1\n",
        "        texto_criptografado += ALFABETO[index_criptografia] # Adiciona a nova letra encontrada usando o novo index\n",
        "    else:\n",
        "        texto_criptografado += letra # Se a letra não existe no Array ALFABETO, simplemente adiciona ela como está na string\n",
        "\n",
        "print(\"O texto criptografado é:\", texto_criptografado)\n"
      ]
    }
  ],
  "metadata": {
    "colab": {
      "collapsed_sections": [],
      "name": "TrabalhoM11.ipynb",
      "provenance": []
    },
    "kernelspec": {
      "display_name": "Python 3.10.5 64-bit",
      "language": "python",
      "name": "python3"
    },
    "language_info": {
      "codemirror_mode": {
        "name": "ipython",
        "version": 3
      },
      "file_extension": ".py",
      "mimetype": "text/x-python",
      "name": "python",
      "nbconvert_exporter": "python",
      "pygments_lexer": "ipython3",
      "version": "3.10.7"
    },
    "vscode": {
      "interpreter": {
        "hash": "e7370f93d1d0cde622a1f8e1c04877d8463912d04d973331ad4851f04de6915a"
      }
    }
  },
  "nbformat": 4,
  "nbformat_minor": 0
}
