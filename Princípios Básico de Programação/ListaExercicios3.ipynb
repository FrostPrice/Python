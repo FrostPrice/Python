{
  "cells": [
    {
      "cell_type": "markdown",
      "metadata": {
        "id": "XTacSKaoRHqS"
      },
      "source": [
        "1. Escreva uma função chamada `num_teste` que aceite um número como entrada. Se o número for maior que 10, a função retornará `\"Maior que 10.\"` Se o número for menor que 10, a função retornará `\"Menor que 10.\"` Se o número for igual a 10, a função deve retornar `\"Igual a 10.\"`\n"
      ]
    },
    {
      "cell_type": "code",
      "execution_count": null,
      "metadata": {
        "id": "SjWGHzNDRDJa"
      },
      "outputs": [],
      "source": [
        "def num_teste(num):\n",
        "    if num == 10:\n",
        "        print(\"Igual a 10\")\n",
        "    elif num > 10:\n",
        "        print(\"Maior que 10\")\n",
        "    else:\n",
        "        print(\"Menor que 10\")\n",
        "\n",
        "num_teste(10)\n",
        "num_teste(20)\n",
        "num_teste(5)"
      ]
    },
    {
      "cell_type": "markdown",
      "metadata": {
        "id": "qLUYbccpRHS0"
      },
      "source": [
        "2.   Escreva uma função `soma_quadrados(lista)` que calcule a soma dos quadrados dos números na lista lista. Por exemplo, `som_quadrados([2, 3, 4])` deve retornar `4 + 9 + 16`, que é `29`."
      ]
    },
    {
      "cell_type": "code",
      "execution_count": null,
      "metadata": {
        "id": "foxXrFK_RGd4"
      },
      "outputs": [],
      "source": [
        "def soma_quadrado(lista):\n",
        "    soma = 0\n",
        "    for num in lista:\n",
        "        soma += num * num\n",
        "    else:\n",
        "        return soma\n",
        "\n",
        "print(soma_quadrado([2, 3, 4]))"
      ]
    },
    {
      "cell_type": "markdown",
      "metadata": {
        "id": "Si4G3nqcRGtp"
      },
      "source": [
        "3.   Escreva uma função que retorna o número de dígitos de um inteiro.\n"
      ]
    },
    {
      "cell_type": "code",
      "execution_count": null,
      "metadata": {
        "id": "2FjHcC8nOPnd"
      },
      "outputs": [],
      "source": [
        "def computa_digitos(num):\n",
        "    return len(str(num))\n",
        "\n",
        "print(computa_digitos(50000))\n",
        "print(computa_digitos(1))\n",
        "print(computa_digitos(1234874787))"
      ]
    },
    {
      "cell_type": "markdown",
      "metadata": {
        "id": "xwWgkx-Ho2n-"
      },
      "source": [
        "4.   Faça uma função que receba uma string de texto e, começando com um dicionário vazio, faça com que ele tenha como chave as letras do alfabeto e como valor a quantidade de vezes que ela aparece no texto. Cada letra somente deve ser adicionada ao dicionário a primeira vez que ela aparece no texto."
      ]
    },
    {
      "cell_type": "code",
      "execution_count": null,
      "metadata": {
        "id": "KXOc3a1wt2Gi"
      },
      "outputs": [],
      "source": [
        "ALFABETO = \"abcdefghijklmnopqrstuvwxyz\"\n",
        "\n",
        "\n",
        "def qtd_letras_aparece(texto):\n",
        "    dicionario = {}\n",
        "    \n",
        "    for letra in texto:\n",
        "        if letra not in dicionario:\n",
        "            dicionario[letra] = 1\n",
        "        else:\n",
        "            dicionario[letra] = dicionario[letra] + 1\n",
        "    \n",
        "    print(dicionario)\n",
        "\n",
        "texto_input = input(\"Digite um texto:\")\n",
        "qtd_letras_aparece(texto_input)"
      ]
    },
    {
      "cell_type": "markdown",
      "metadata": {
        "id": "7wP3Mh6Ko3Hq"
      },
      "source": [
        "5.   Faça uma função que receba o dicionário do problema anterior e adicione as vogais que não apareceram no texto com o valor 0.\n"
      ]
    },
    {
      "cell_type": "code",
      "execution_count": 15,
      "metadata": {
        "id": "0XZckrfQo1bI"
      },
      "outputs": [
        {
          "name": "stdout",
          "output_type": "stream",
          "text": [
            "{'a': 1, 'b': 1, 'o': 1, 'l': 2, 'c': 0, 'd': 0, 'f': 0, 'g': 0, 'h': 0, 'j': 0, 'k': 0, 'm': 0, 'n': 0, 'p': 0, 'q': 0, 'r': 0, 's': 0, 't': 0, 'v': 0, 'w': 0, 'x': 0, 'y': 0, 'z': 0}\n"
          ]
        }
      ],
      "source": [
        "ALFABETO = \"abcdefghijklmnopqrstuvwxyz\"\n",
        "VOGAIS = \"bcdfghjklmnpqrstvwxyz\"\n",
        "\n",
        "\n",
        "def qtd_letras(texto):\n",
        "    dicionario = {}\n",
        "    \n",
        "    for letra in texto:\n",
        "        if letra not in dicionario:\n",
        "            dicionario[letra] = 1\n",
        "        else:\n",
        "            dicionario[letra] = dicionario[letra] + 1\n",
        "\n",
        "    for letra in VOGAIS:\n",
        "        if letra not in texto:\n",
        "            dicionario[letra] = 0\n",
        "    \n",
        "    print(dicionario)\n",
        "\n",
        "texto_input = input(\"Digite um texto:\")\n",
        "qtd_letras(texto_input)"
      ]
    }
  ],
  "metadata": {
    "colab": {
      "collapsed_sections": [],
      "name": "ListaExercicios3.ipynb",
      "provenance": []
    },
    "kernelspec": {
      "display_name": "Python 3.10.6 64-bit",
      "language": "python",
      "name": "python3"
    },
    "language_info": {
      "codemirror_mode": {
        "name": "ipython",
        "version": 3
      },
      "file_extension": ".py",
      "mimetype": "text/x-python",
      "name": "python",
      "nbconvert_exporter": "python",
      "pygments_lexer": "ipython3",
      "version": "3.10.6"
    },
    "vscode": {
      "interpreter": {
        "hash": "e7370f93d1d0cde622a1f8e1c04877d8463912d04d973331ad4851f04de6915a"
      }
    }
  },
  "nbformat": 4,
  "nbformat_minor": 0
}
