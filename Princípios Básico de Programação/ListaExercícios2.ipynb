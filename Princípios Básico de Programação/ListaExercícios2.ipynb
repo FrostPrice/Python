{
  "cells": [
    {
      "cell_type": "markdown",
      "metadata": {
        "id": "rODnJ8k6G2ej"
      },
      "source": [
        "# Lista de Exercícios 2"
      ]
    },
    {
      "cell_type": "markdown",
      "metadata": {
        "id": "CnpnunOJGhYG"
      },
      "source": [
        "1.\tFaça um código que leia 5 números e informe o maior deles.\n",
        "\n",
        "---\n",
        "\n"
      ]
    },
    {
      "cell_type": "code",
      "execution_count": null,
      "metadata": {
        "id": "xU9bXWtsGgCC"
      },
      "outputs": [],
      "source": [
        "numeros = []\n",
        "for i in range(5):\n",
        "    numeros.append(float(input(\"Digite um número: \")))\n",
        "\n",
        "maiorNumero = numeros[0]\n",
        "\n",
        "for numero in numeros:\n",
        "    if numero > maiorNumero:\n",
        "        maiorNumero = numero\n",
        "\n",
        "print(\"O maior número digitado é: \", maiorNumero)"
      ]
    },
    {
      "cell_type": "markdown",
      "metadata": {
        "id": "uqmOaXPtGjUZ"
      },
      "source": [
        "2.\tFaça um código que peça os 3 lados de um triângulo. O programa deverá informar se os valores podem ser um triângulo. Indique, caso os lados formem um triângulo, se o mesmo é: equilátero, isósceles ou escaleno.\n",
        "\n",
        "  \t    Dicas:\n",
        "\n",
        "          *   Três lados formam um triângulo quando a soma de quaisquer dois lados for maior que o terceiro;\n",
        "          *   Triângulo Equilátero: três lados iguais;\n",
        "          *   Triângulo Isósceles: quaisquer dois lados iguais;\n",
        "          *   Triângulo Escaleno: três lados diferentes.\n",
        "\n",
        "---\n",
        "\n",
        "\n",
        "\n",
        "\n"
      ]
    },
    {
      "cell_type": "code",
      "execution_count": null,
      "metadata": {
        "id": "EKHTxo1fGj2K"
      },
      "outputs": [],
      "source": [
        "lados = []\n",
        "\n",
        "for i in range(3):\n",
        "    lados.append(float(input(\"Digite o lado do Triângulo\")))\n",
        "\n",
        "if lados[0] + lados[1] > lados[2] or lados[1] + lados[2] > lados[0]:\n",
        "    if lados[0] == lados[1] and lados[0] == lados[2] and lados[1] == lados[2]:\n",
        "        print(\"O Triângulo é EQUILÁTERO\")    \n",
        "    elif lados[0] == lados[1] or lados[0] == lados[2] or lados[1] == lados[2]:\n",
        "        print(\"O Triângulo é ISÓSCELES\")    \n",
        "    else:\n",
        "        print(\"O Triângulo é ESCALENO\")    \n",
        "else:\n",
        "    print(\"Não é um Triângulo!\")"
      ]
    },
    {
      "cell_type": "markdown",
      "metadata": {
        "id": "aNlirnJuGkRW"
      },
      "source": [
        "3.\tFaça um código que peça um valor e mostre se ele é primo."
      ]
    },
    {
      "cell_type": "code",
      "execution_count": null,
      "metadata": {
        "id": "Eoi8EFkRGkse"
      },
      "outputs": [],
      "source": [
        "numero = int(input(\"Digite um número: \"))\n",
        "isPrimo = False\n",
        "\n",
        "if numero <= 1:\n",
        "    print(\"Não é primo!\")\n",
        "else:\n",
        "    contador = 2\n",
        "    while numero > contador:\n",
        "        if numero % contador == 0:\n",
        "            isPrimo = False\n",
        "        else:\n",
        "            isPrimo = True\n",
        "        contador += 1\n",
        "    \n",
        "    if isPrimo:\n",
        "        print(\"O número é Primo\")\n",
        "    else:\n",
        "        print(\"O número não é Primo\")"
      ]
    },
    {
      "cell_type": "markdown",
      "metadata": {
        "id": "0scpIGYgGk_c"
      },
      "source": [
        "4.\tSendo `H = 1 + 1/2 + 1/3 + 1/4 + ... + 1/N`, Faça um código que calcule o valor de H com N termos."
      ]
    },
    {
      "cell_type": "code",
      "execution_count": 5,
      "metadata": {
        "id": "lXcr28bwGlUt"
      },
      "outputs": [
        {
          "name": "stdout",
          "output_type": "stream",
          "text": [
            "3.0833333333333335\n"
          ]
        }
      ],
      "source": [
        "numero = int(input(\"Digite um número inteiro\"))\n",
        "h = 1\n",
        "\n",
        "for i in range(1, numero):\n",
        "    h += 1 / i\n",
        "\n",
        "print(h)"
      ]
    },
    {
      "cell_type": "markdown",
      "metadata": {
        "id": "qf09XgR8GnX4"
      },
      "source": [
        "5.\tFaça um código que leia um vetor de 10 caracteres e diga quantas consoantes foram lidas. Imprima as consoantes."
      ]
    },
    {
      "cell_type": "code",
      "execution_count": 9,
      "metadata": {
        "id": "ROIrFJUxGoAk"
      },
      "outputs": [
        {
          "name": "stdout",
          "output_type": "stream",
          "text": [
            "A quantidade de vogais é:  10\n"
          ]
        }
      ],
      "source": [
        "# caracteres = ['a','e','i','o','u','b','c','d','e','f']\n",
        "caracteres = []\n",
        "for i in range(10):\n",
        "    caracteres.append(input(\"Digite apenas um caracter\"))\n",
        "\n",
        "\n",
        "vogais = 0\n",
        "\n",
        "for caracter in caracteres:\n",
        "    if caracter == 'a' or caracter == 'e' or caracter == 'i' or caracter == 'o' or caracter == 'u' or caracter == 'A' or caracter == 'E' or caracter == 'I' or caracter == 'O' or caracter == 'U':\n",
        "        vogais += 1\n",
        "\n",
        "print(\"A quantidade de vogais é: \", vogais)"
      ]
    },
    {
      "cell_type": "markdown",
      "metadata": {
        "id": "bE1QC-JpGoig"
      },
      "source": [
        "6.\tFaça um código que leia um número indeterminado de valores, correspondentes a notas, encerrando a entrada de dados quando for informado um valor igual a -1 (que não deve ser armazenado). Após esta entrada de dados, faça:\n",
        "\n",
        "  *   Mostre a quantidade de valores que foram lidos;\n",
        "  *   Exiba todos os valores na ordem em que foram informados, um ao lado do outro;\n",
        "  *   Calcule e mostre a soma dos valores;\n",
        "  *   Calcule e mostre a média dos valores;\n",
        "  *   Calcule e mostre a quantidade de valores acima da média calculada;\n",
        "  *   Calcule e mostre a quantidade de valores abaixo de sete;"
      ]
    },
    {
      "cell_type": "code",
      "execution_count": 21,
      "metadata": {
        "id": "2YEHX1Q6GpIX"
      },
      "outputs": [
        {
          "name": "stdout",
          "output_type": "stream",
          "text": [
            "A quantidade de notas informadas foram:  1\n",
            "Valores digitados:  [15.0]\n",
            "Somatório:  15.0\n",
            "Média:  15.0\n",
            "Valores acima da Média:  []\n",
            "Valores abaixo de 7 (sete):  []\n"
          ]
        }
      ],
      "source": [
        "notas = []\n",
        "\n",
        "digitando = True\n",
        "while digitando:\n",
        "    input_nota = float(input(\"Digite a nota: \"))\n",
        "    if(input_nota == -1.0): \n",
        "        digitando = False\n",
        "    else:\n",
        "        notas.append(input_nota)\n",
        "\n",
        "# Mostre a quantidade de valores que foram lidos;\n",
        "print(\"A quantidade de notas informadas foram: \", len(notas))\n",
        "\n",
        "# Exiba todos os valores na ordem em que foram informados, um ao lado do outro;\n",
        "print(\"Valores digitados: \",notas)\n",
        "\n",
        "# Calcule e mostre a soma dos valores;\n",
        "somatorio = 0\n",
        "\n",
        "for nota in notas:\n",
        "    somatorio += nota\n",
        "    \n",
        "print(\"Somatório: \", somatorio)\n",
        "\n",
        "# Calcule e mostre a média dos valores;\n",
        "media = somatorio / len(notas)\n",
        "\n",
        "print(\"Média: \", media)\n",
        "\n",
        "# Calcule e mostre a quantidade de valores acima da média calculada;\n",
        "acima_media = []\n",
        "\n",
        "for nota in notas:\n",
        "    if nota => media:\n",
        "        acima_media.append(nota)\n",
        "\n",
        "print(\"Valores acima da Média: \", acima_media)\n",
        "\n",
        "# Calcule e mostre a quantidade de valores abaixo de sete;\n",
        "abaixo_sete = []\n",
        "\n",
        "for nota in notas:\n",
        "    if nota <= 7:\n",
        "        abaixo_sete.append(nota)\n",
        "\n",
        "print(\"Valores abaixo de 7 (sete): \", abaixo_sete)"
      ]
    }
  ],
  "metadata": {
    "colab": {
      "name": "ListaExercícios2.ipynb",
      "provenance": []
    },
    "kernelspec": {
      "display_name": "Python 3.10.5 64-bit",
      "language": "python",
      "name": "python3"
    },
    "language_info": {
      "codemirror_mode": {
        "name": "ipython",
        "version": 3
      },
      "file_extension": ".py",
      "mimetype": "text/x-python",
      "name": "python",
      "nbconvert_exporter": "python",
      "pygments_lexer": "ipython3",
      "version": "3.10.5"
    },
    "vscode": {
      "interpreter": {
        "hash": "e7370f93d1d0cde622a1f8e1c04877d8463912d04d973331ad4851f04de6915a"
      }
    }
  },
  "nbformat": 4,
  "nbformat_minor": 0
}
